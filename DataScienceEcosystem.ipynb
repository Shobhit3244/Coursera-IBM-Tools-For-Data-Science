{
 "cells": [
  {
   "cell_type": "markdown",
   "id": "9a21014d-b12d-4dbd-af57-c864e797541d",
   "metadata": {},
   "source": [
    "<H1>Data Science Tools and Ecosystem</H1>\n"
   ]
  },
  {
   "cell_type": "markdown",
   "id": "607127d5-d717-4867-851c-a155354f1678",
   "metadata": {},
   "source": [
    "In this notebook, Data Science Tools and Ecosystem are summarized.\n"
   ]
  },
  {
   "cell_type": "markdown",
   "id": "f9c5e1b2-228c-4c7d-adbf-8f24ff086207",
   "metadata": {},
   "source": [
    "Objectives:\n",
    "<ul><li>Create a markdown cell to list data science languages</li>\n",
    "    <li>Create a markdown cell to list data science libraries</li>\n",
    "    <li>Create a markdown cell with a table of Data Science tools</li>\n",
    "    <li>Create a markdown cell introducing arithmetic expression examples</li>\n",
    "    <li>Create a code cell to multiply and add numbers</li></ul>"
   ]
  },
  {
   "cell_type": "markdown",
   "id": "cbc79a1d-c9cb-4f1f-ac3d-2a5efb43b74c",
   "metadata": {},
   "source": [
    "Some of the popular languages that Data Scientists use are:\n",
    "<ol><li>Python</li>\n",
    "    <li>R</li>\n",
    "    <li>Scala</li>"
   ]
  },
  {
   "cell_type": "markdown",
   "id": "fc3155b0-bb32-4c74-bba2-48266ba556c8",
   "metadata": {},
   "source": [
    "Some of the commonly used libraries used by Data Scientists include:\n",
    "<ol><li>Pandas</li>\n",
    "    <li>Numpy</li>\n",
    "    <li>Scipy</li>"
   ]
  },
  {
   "cell_type": "markdown",
   "id": "7707f527-dff7-453d-a639-a499360352f7",
   "metadata": {},
   "source": [
    "| Data Science Tools |\n",
    "|-------|\n",
    "| Jupyter Notebook |\n",
    "| Spyder |\n",
    "| RStudio |"
   ]
  },
  {
   "cell_type": "markdown",
   "id": "52a14319-fce5-4808-bf06-a102c2795af5",
   "metadata": {},
   "source": [
    "<H3>Below are a few examples of evaluating arithmetic expressions in Python.\n"
   ]
  },
  {
   "cell_type": "code",
   "execution_count": 1,
   "id": "f01f425b-2e3b-4c41-a974-fd0b94849f41",
   "metadata": {
    "tags": []
   },
   "outputs": [
    {
     "data": {
      "text/plain": [
       "17"
      ]
     },
     "execution_count": 1,
     "metadata": {},
     "output_type": "execute_result"
    }
   ],
   "source": [
    "#This a simple arithmetic expression to mutiply then add integers\n",
    "(3*4)+5"
   ]
  },
  {
   "cell_type": "code",
   "execution_count": 3,
   "id": "5c53df45-f15f-45f1-880d-ef0addb12eae",
   "metadata": {
    "tags": []
   },
   "outputs": [
    {
     "name": "stdout",
     "output_type": "stream",
     "text": [
      "200 Minutes are 3 Hours and 20 Minutes\n"
     ]
    }
   ],
   "source": [
    "#This will convert 200 minutes to hours by diving by 60\n",
    "minutes = 200\n",
    "hours = 200//60\n",
    "rmmin = 200%60\n",
    "print(f\"{minutes} Minutes are {hours} Hours and {rmmin} Minutes\")"
   ]
  },
  {
   "cell_type": "markdown",
   "id": "2df6c07e-14a6-4950-b747-4b4f1e7af4fe",
   "metadata": {},
   "source": [
    "<H2>Author</H2>\n",
    "Shobhit Kundu"
   ]
  },
  {
   "cell_type": "code",
   "execution_count": null,
   "id": "df73729b-473d-451f-852e-b8cfee3ce5c4",
   "metadata": {},
   "outputs": [],
   "source": []
  }
 ],
 "metadata": {
  "kernelspec": {
   "display_name": "Python",
   "language": "python",
   "name": "conda-env-python-py"
  },
  "language_info": {
   "codemirror_mode": {
    "name": "ipython",
    "version": 3
   },
   "file_extension": ".py",
   "mimetype": "text/x-python",
   "name": "python",
   "nbconvert_exporter": "python",
   "pygments_lexer": "ipython3",
   "version": "3.7.12"
  }
 },
 "nbformat": 4,
 "nbformat_minor": 5
}
